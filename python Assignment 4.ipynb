{
 "cells": [
  {
   "cell_type": "markdown",
   "metadata": {},
   "source": [
    "# 1.1 Write a Python Program(with class concepts) to find the area of the triangle using the below formula.\n",
    "area = (s*(s-a)*(s-b)*(s-c)) ** 0.5         ////////\n",
    "Function to take the length of the sides of triangle from user should be defined in the parent\n",
    "class and function to calculate the area should be defined in subclass."
   ]
  },
  {
   "cell_type": "code",
   "execution_count": 7,
   "metadata": {},
   "outputs": [
    {
     "name": "stdout",
     "output_type": "stream",
     "text": [
      "ENTER 1st SIDE 6\n",
      "ENTER 2nd SIDE 8\n",
      "ENTER 3rd SIDE 10\n",
      "Area of triangle is 24.0\n"
     ]
    }
   ],
   "source": [
    "class parent1:\n",
    "    def __init__(self):\n",
    "        self.a=int(input('ENTER 1st SIDE '))\n",
    "        self.b=int(input('ENTER 2nd SIDE '))\n",
    "        self.c=int(input('ENTER 3rd SIDE '))\n",
    "class child1(parent1):\n",
    "    def __init__(self,*args):\n",
    "        super(child1, self).__init__(*args)\n",
    "    def __str__(self):\n",
    "        \n",
    "        s = (self.a + self.b + self.c) / 2\n",
    "        return ('Area of triangle is {}'.format((s*(s-self.a)*(s-self.b)*(s-self.c)) ** 0.5))\n",
    "obj=child1()\n",
    "print(obj)"
   ]
  },
  {
   "cell_type": "markdown",
   "metadata": {},
   "source": [
    "# 1.2 Write a function filter_long_words() that takes a list of words and an integer n and returns the list of words that are longer than n.\n"
   ]
  },
  {
   "cell_type": "code",
   "execution_count": 14,
   "metadata": {},
   "outputs": [
    {
     "name": "stdout",
     "output_type": "stream",
     "text": [
      "['python', 'Javascript']\n"
     ]
    }
   ],
   "source": [
    "result=[]\n",
    "def filter_long_words(list_of_words,n):\n",
    "    for i in list_of_words:\n",
    "        if (len(i)>n):\n",
    "            result.append(i)\n",
    "    return result       \n",
    "    \n",
    "ob=filter_long_words([\"python\",\"java\",'Javascript','SQL'],5)\n",
    "print(ob)\n"
   ]
  },
  {
   "cell_type": "markdown",
   "metadata": {},
   "source": [
    "# 2.1 Write a Python program using function concept that maps list of words into a list of integers\n",
    "representing the lengths of the corresponding words.\n",
    "Hint: If a list [ ab,cde,erty] is passed on to the python function output should come as [2,3,4]\n",
    "Here 2,3 and 4 are the lengths of the words in the list.\n"
   ]
  },
  {
   "cell_type": "code",
   "execution_count": 15,
   "metadata": {},
   "outputs": [
    {
     "name": "stdout",
     "output_type": "stream",
     "text": [
      "[6, 4, 10, 3]\n"
     ]
    }
   ],
   "source": [
    "result=[]\n",
    "def maps_list(list_of_words):\n",
    "    for i in list_of_words:\n",
    "        result.append(len(i))\n",
    "    return result \n",
    "        \n",
    "            \n",
    "ob=maps_list([\"python\",\"java\",'Javascript','SQL'])\n",
    "print(ob)"
   ]
  },
  {
   "cell_type": "markdown",
   "metadata": {},
   "source": [
    "# 2.2 Write a Python function which takes a character (i.e. a string of length 1) and returns True if\n",
    "it is a vowel, False otherwise."
   ]
  },
  {
   "cell_type": "code",
   "execution_count": 18,
   "metadata": {},
   "outputs": [
    {
     "data": {
      "text/plain": [
       "True"
      ]
     },
     "execution_count": 18,
     "metadata": {},
     "output_type": "execute_result"
    }
   ],
   "source": [
    "def character(string):\n",
    "    vowel=['a','e','i','o','u']\n",
    "    if string in vowel:\n",
    "        return True\n",
    "    else:\n",
    "        return False\n",
    "a=character('a')\n",
    "a"
   ]
  },
  {
   "cell_type": "markdown",
   "metadata": {},
   "source": [
    "# "
   ]
  }
 ],
 "metadata": {
  "kernelspec": {
   "display_name": "Python 3",
   "language": "python",
   "name": "python3"
  }
 },
 "nbformat": 4,
 "nbformat_minor": 4
}
